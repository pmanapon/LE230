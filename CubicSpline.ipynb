{
 "cells": [
  {
   "cell_type": "markdown",
   "metadata": {},
   "source": [
    "# Cubic Spline Interpolation"
   ]
  },
  {
   "cell_type": "code",
   "execution_count": 9,
   "metadata": {},
   "outputs": [],
   "source": [
    "import numpy as np\n",
    "import matplotlib.pyplot as plt"
   ]
  },
  {
   "cell_type": "code",
   "execution_count": 10,
   "metadata": {},
   "outputs": [],
   "source": [
    "X = np.array([1, 3, 5, 7, 9, 11, 15, 20, 22, 25, 27, 30])\n",
    "Y = np.array([20, 14, 10, 7, 11, 8, 17, 19, 10, 22, 15, 11])"
   ]
  },
  {
   "cell_type": "markdown",
   "metadata": {},
   "source": [
    "Example run: interpolate data points"
   ]
  },
  {
   "cell_type": "code",
   "execution_count": 11,
   "metadata": {},
   "outputs": [],
   "source": [
    "num_points = 1000\n",
    "N = len(X)\n",
    "if (N != len(Y)):\n",
    "    print(\"Len_X not equal len_Y\")\n",
    "    exit()\n",
    "\n",
    "H_x = np.diff(X)\n",
    "H_y = np.diff(Y)\n",
    "H_n = N - 1\n",
    "\n",
    "Alfa = 1 / H_x[1: H_n - 1]\n",
    "Gamma = 1 / H_x[1: H_n - 1]\n",
    "Beta = 2 * (1 / H_x[:H_n - 1] + 1 / H_x[1:])\n",
    "\n",
    "dF = H_y / H_x\n",
    "Delta = 3 * (dF[1:] / H_x[1:] + dF[:H_n - 1] / H_x[:H_n - 1])\n",
    "\n",
    "TDM = np.diag(Alfa, k=-1) + np.diag(Beta, 0) + np.diag(Gamma, +1)\n",
    "B = np.linalg.solve(TDM, Delta)\n",
    "B = np.hstack([0, B, 0])\n",
    "\n",
    "C = (3 * dF - B[1:] - 2 * B[:H_n]) / H_x\n",
    "D = (B[:H_n] + B[1:] - 2 * dF) / (H_x ** 2)\n",
    "\n",
    "x_step = (X[N - 1] - X[0]) / num_points\n",
    "\n",
    "x_points = []\n",
    "x_base = X[0]\n",
    "for i in range(num_points):\n",
    "    x_points.append(x_base + x_step * i)\n",
    "\n",
    "y_points = []\n",
    "for x_point in x_points:\n",
    "    for i in range(N - 1):\n",
    "        if ((x_point >= X[i]) and (x_point <= X[i + 1])):\n",
    "            y_point = Y[i] + B[i] * (x_point - X[i]) + C[i] * ((x_point - X[i]) ** 2) + D[i] * ((x_point - X[i]) ** 3)\n",
    "            y_points.append(y_point)"
   ]
  },
  {
   "cell_type": "code",
   "execution_count": 12,
   "metadata": {},
   "outputs": [
    {
     "data": {
      "image/png": "[encoded data removed]",
      "text/plain": [
       "<Figure size 432x288 with 1 Axes>"
      ]
     },
     "metadata": {
      "needs_background": "light"
     },
     "output_type": "display_data"
    }
   ],
   "source": [
    "plt.plot(x_points, y_points, \"-r\",label='cubic spline')\n",
    "plt.plot( X, Y, \"o\",label='Data points')\n",
    "plt.legend()\n",
    "plt.title('Cubic spline')\n",
    "plt.show()"
   ]
  }
 ],
 "metadata": {
  "kernelspec": {
   "display_name": "Python 3",
   "language": "python",
   "name": "python3"
  },
  "language_info": {
   "codemirror_mode": {
    "name": "ipython",
    "version": 3
   },
   "file_extension": ".py",
   "mimetype": "text/x-python",
   "name": "python",
   "nbconvert_exporter": "python",
   "pygments_lexer": "ipython3",
   "version": "3.7.3"
  }
 },
 "nbformat": 4,
 "nbformat_minor": 2
}
